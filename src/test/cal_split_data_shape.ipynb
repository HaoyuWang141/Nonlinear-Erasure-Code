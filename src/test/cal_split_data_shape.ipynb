{
 "cells": [
  {
   "cell_type": "code",
   "execution_count": 1,
   "metadata": {},
   "outputs": [
    {
     "name": "stdout",
     "output_type": "stream",
     "text": [
      "original dir:  d:\\我的\\大学\\3秋\\学业\\创新实践\\repo\\Nonlinear-Erasure-Code\\src\\test\n",
      "changed dir:  d:\\我的\\大学\\3秋\\学业\\创新实践\\repo\\Nonlinear-Erasure-Code\\src\n"
     ]
    }
   ],
   "source": [
    "%load_ext autoreload\n",
    "%autoreload 2\n",
    "\n",
    "import os\n",
    "\n",
    "print(\"original dir: \", os.getcwd())\n",
    "\n",
    "new_path = \"../\"\n",
    "os.chdir(new_path)\n",
    "\n",
    "print(\"changed dir: \", os.getcwd())"
   ]
  },
  {
   "cell_type": "code",
   "execution_count": 10,
   "metadata": {},
   "outputs": [
    {
     "name": "stdout",
     "output_type": "stream",
     "text": [
      "output shape for original input: (512, 4, 4)\n",
      "output shape after split: (512, 4, 2)\n",
      "input shape after split: (512, 25, 9)\n"
     ]
    }
   ],
   "source": [
    "from base_model.LeNet5 import LeNet5\n",
    "from base_model.ResNet18 import ResNet18\n",
    "from util.util import cal_input_shape\n",
    "\n",
    "# TODO: set the followings\n",
    "# ----------------------------------------------\n",
    "\n",
    "# The number of classes\n",
    "class_num = 10\n",
    "\n",
    "# The number of split data\n",
    "# split_data_num = 4\n",
    "split_data_num = 2\n",
    "\n",
    "# The original input shape\n",
    "# input_shape = (1, 28, 28)\n",
    "input_shape = (3, 32, 32)\n",
    "\n",
    "# The base model\n",
    "# model = LeNet5(input_shape, class_num)\n",
    "model = ResNet18(input_shape, class_num)\n",
    "\n",
    "# ----------------------------------------------\n",
    "\n",
    "conv_segment = model.get_conv_segment()\n",
    "output_shape = model.calculate_conv_output(input_shape)\n",
    "print(f\"output shape for original input: {output_shape}\")\n",
    "split_output_shape = (\n",
    "    output_shape[0],\n",
    "    output_shape[1],\n",
    "    output_shape[2] // split_data_num,\n",
    ")\n",
    "print(f\"output shape after split: {split_output_shape}\")\n",
    "split_input_shape = cal_input_shape(conv_segment, split_output_shape)\n",
    "print(f\"input shape after split: {split_input_shape}\")"
   ]
  }
 ],
 "metadata": {
  "kernelspec": {
   "display_name": "ming",
   "language": "python",
   "name": "python3"
  },
  "language_info": {
   "codemirror_mode": {
    "name": "ipython",
    "version": 3
   },
   "file_extension": ".py",
   "mimetype": "text/x-python",
   "name": "python",
   "nbconvert_exporter": "python",
   "pygments_lexer": "ipython3",
   "version": "3.10.13"
  }
 },
 "nbformat": 4,
 "nbformat_minor": 2
}

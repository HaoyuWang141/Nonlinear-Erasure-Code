{
 "cells": [
  {
   "cell_type": "code",
   "execution_count": 2,
   "metadata": {},
   "outputs": [
    {
     "name": "stdout",
     "output_type": "stream",
     "text": [
      "[(0, 4), (2, 6), (4, 8)]\n"
     ]
    }
   ],
   "source": [
    "def split_vector(vector, k, l, overlap=False):\n",
    "    \"\"\"\n",
    "    Args:\n",
    "    vector (list or torch.Tensor): 要分割的向量\n",
    "    k (int): 要分割的份数\n",
    "    l (int): 每份的长度\n",
    "    overlap (bool): 是否允许重叠\n",
    "\n",
    "    Returns:\n",
    "    List of tuples: 每份的起始坐标组成的列表\n",
    "    \"\"\"\n",
    "    if not overlap:\n",
    "        step = l\n",
    "    else:\n",
    "        step = max(1, (len(vector) - l) // (k - 1))\n",
    "\n",
    "    start_indices = [i for i in range(0, len(vector), step)][:k]\n",
    "    return [(start, start + l) for start in start_indices]\n",
    "\n",
    "\n",
    "# 示例用法\n",
    "L = 8\n",
    "k = 3\n",
    "l = 4\n",
    "overlap = True\n",
    "\n",
    "vector = list(range(L))\n",
    "segments = split_vector(vector, k, l, overlap)\n",
    "print(segments)"
   ]
  },
  {
   "cell_type": "code",
   "execution_count": 4,
   "metadata": {},
   "outputs": [
    {
     "name": "stdout",
     "output_type": "stream",
     "text": [
      "tensor([ 0.6134, -0.1497,  0.0674, -0.7544, -0.3290, -0.6827,  0.0401,  0.0584,\n",
      "         0.3618, -1.0171, -0.6134, -0.2813, -0.8208, -1.5099, -0.1695,  0.5559,\n",
      "         0.2836,  0.3917, -0.1610, -0.5461,  0.3332, -0.4670, -0.1738,  0.0860,\n",
      "        -0.0111, -0.7616, -0.7527, -0.0186, -0.3561,  0.0229,  0.5525,  0.4344],\n",
      "       grad_fn=<SelectBackward0>)\n",
      "tensor([ 0.6134, -0.1497,  0.0674, -0.7544, -0.3290, -0.6827,  0.0401,  0.0584,\n",
      "         0.3618, -1.0171, -0.6134, -0.2813, -0.8208, -1.5099, -0.1695,  0.5559,\n",
      "         0.2836,  0.3917, -0.1610, -0.5461,  0.3332, -0.4670, -0.1738,  0.0860,\n",
      "         0.0506], grad_fn=<SelectBackward0>)\n"
     ]
    }
   ],
   "source": [
    "from torch import nn\n",
    "import torch\n",
    "conv1 = nn.Conv2d(1, 64, kernel_size=3, stride=1, padding=1, bias=False)\n",
    "x1 = torch.randn(1, 1, 32, 32)\n",
    "x2 = x1[:, :, :25, :25]\n",
    "y1 = conv1(x1)\n",
    "y2 = conv1(x2)\n",
    "print(y1[0][0][0])\n",
    "print(y2[0][0][0])"
   ]
  }
 ],
 "metadata": {
  "kernelspec": {
   "display_name": "ming",
   "language": "python",
   "name": "python3"
  },
  "language_info": {
   "codemirror_mode": {
    "name": "ipython",
    "version": 3
   },
   "file_extension": ".py",
   "mimetype": "text/x-python",
   "name": "python",
   "nbconvert_exporter": "python",
   "pygments_lexer": "ipython3",
   "version": "3.11.5"
  }
 },
 "nbformat": 4,
 "nbformat_minor": 2
}
